{
  "nbformat": 4,
  "nbformat_minor": 5,
  "metadata": {
    "kernelspec": {
      "display_name": "R",
      "language": "R",
      "name": "ir"
    },
    "language_info": {
      "codemirror_mode": "r",
      "file_extension": ".r",
      "mimetype": "text/x-r-source",
      "name": "R",
      "pygments_lexer": "r",
      "version": "3.6.1"
    },
    "colab": {
      "provenance": []
    }
  },
  "cells": [
    {
      "cell_type": "markdown",
      "metadata": {
        "id": "XpnuoCXpj3XJ"
      },
      "source": [
        "# Adaboost\n",
        "Utiliza adaboost para modelar los datos del archivo \"diabetes-dataset.csv\".\n",
        "\n",
        "1. Separa los datos en dos subconjuntos. Utiliza el primero para construir el árbol y el segundo para evaluar la calidad del árbol. El conjunto de entrenamiento debe contener al 70% de las observaciones del conjunto original.\n",
        "2. Aplica el adaaboost para explicar la variable de respuesta a partir de los predictores.\n",
        "3. Evalúa la exactitud, precisión, sensibilidad y la especificidad del modelo sobre los datos de prueba. ¿Cuál de todas las medidas crees que es la más importante para evaluar la calidad del clasificador?"
      ],
      "id": "XpnuoCXpj3XJ"
    },
    {
      "cell_type": "code",
      "metadata": {
        "colab": {
          "base_uri": "https://localhost:8080/",
          "height": 282
        },
        "id": "9963638b-8e3e-472b-a4bf-dabbe0c5dd68",
        "outputId": "ddc37725-ea67-4ded-ef46-69d5b0e5003a"
      },
      "source": [
        "data <- read.csv('diabetes-dataset.csv')\n",
        "head(data)"
      ],
      "id": "9963638b-8e3e-472b-a4bf-dabbe0c5dd68",
      "execution_count": null,
      "outputs": [
        {
          "output_type": "display_data",
          "data": {
            "text/plain": [
              "  Pregnancies Glucose BloodPressure SkinThickness Insulin BMI \n",
              "1 2           138     62            35              0     33.6\n",
              "2 0            84     82            31            125     38.2\n",
              "3 0           145      0             0              0     44.2\n",
              "4 0           135     68            42            250     42.3\n",
              "5 1           139     62            41            480     40.7\n",
              "6 0           173     78            32            265     46.5\n",
              "  DiabetesPedigreeFunction Age Outcome\n",
              "1 0.127                    47  1      \n",
              "2 0.233                    23  0      \n",
              "3 0.630                    31  1      \n",
              "4 0.365                    24  1      \n",
              "5 0.536                    21  0      \n",
              "6 1.159                    58  0      "
            ],
            "text/latex": "A data.frame: 6 × 9\n\\begin{tabular}{r|lllllllll}\n  & Pregnancies & Glucose & BloodPressure & SkinThickness & Insulin & BMI & DiabetesPedigreeFunction & Age & Outcome\\\\\n  & <int> & <int> & <int> & <int> & <int> & <dbl> & <dbl> & <int> & <int>\\\\\n\\hline\n\t1 & 2 & 138 & 62 & 35 &   0 & 33.6 & 0.127 & 47 & 1\\\\\n\t2 & 0 &  84 & 82 & 31 & 125 & 38.2 & 0.233 & 23 & 0\\\\\n\t3 & 0 & 145 &  0 &  0 &   0 & 44.2 & 0.630 & 31 & 1\\\\\n\t4 & 0 & 135 & 68 & 42 & 250 & 42.3 & 0.365 & 24 & 1\\\\\n\t5 & 1 & 139 & 62 & 41 & 480 & 40.7 & 0.536 & 21 & 0\\\\\n\t6 & 0 & 173 & 78 & 32 & 265 & 46.5 & 1.159 & 58 & 0\\\\\n\\end{tabular}\n",
            "text/markdown": "\nA data.frame: 6 × 9\n\n| <!--/--> | Pregnancies &lt;int&gt; | Glucose &lt;int&gt; | BloodPressure &lt;int&gt; | SkinThickness &lt;int&gt; | Insulin &lt;int&gt; | BMI &lt;dbl&gt; | DiabetesPedigreeFunction &lt;dbl&gt; | Age &lt;int&gt; | Outcome &lt;int&gt; |\n|---|---|---|---|---|---|---|---|---|---|\n| 1 | 2 | 138 | 62 | 35 |   0 | 33.6 | 0.127 | 47 | 1 |\n| 2 | 0 |  84 | 82 | 31 | 125 | 38.2 | 0.233 | 23 | 0 |\n| 3 | 0 | 145 |  0 |  0 |   0 | 44.2 | 0.630 | 31 | 1 |\n| 4 | 0 | 135 | 68 | 42 | 250 | 42.3 | 0.365 | 24 | 1 |\n| 5 | 1 | 139 | 62 | 41 | 480 | 40.7 | 0.536 | 21 | 0 |\n| 6 | 0 | 173 | 78 | 32 | 265 | 46.5 | 1.159 | 58 | 0 |\n\n",
            "text/html": [
              "<table class=\"dataframe\">\n",
              "<caption>A data.frame: 6 × 9</caption>\n",
              "<thead>\n",
              "\t<tr><th></th><th scope=col>Pregnancies</th><th scope=col>Glucose</th><th scope=col>BloodPressure</th><th scope=col>SkinThickness</th><th scope=col>Insulin</th><th scope=col>BMI</th><th scope=col>DiabetesPedigreeFunction</th><th scope=col>Age</th><th scope=col>Outcome</th></tr>\n",
              "\t<tr><th></th><th scope=col>&lt;int&gt;</th><th scope=col>&lt;int&gt;</th><th scope=col>&lt;int&gt;</th><th scope=col>&lt;int&gt;</th><th scope=col>&lt;int&gt;</th><th scope=col>&lt;dbl&gt;</th><th scope=col>&lt;dbl&gt;</th><th scope=col>&lt;int&gt;</th><th scope=col>&lt;int&gt;</th></tr>\n",
              "</thead>\n",
              "<tbody>\n",
              "\t<tr><th scope=row>1</th><td>2</td><td>138</td><td>62</td><td>35</td><td>  0</td><td>33.6</td><td>0.127</td><td>47</td><td>1</td></tr>\n",
              "\t<tr><th scope=row>2</th><td>0</td><td> 84</td><td>82</td><td>31</td><td>125</td><td>38.2</td><td>0.233</td><td>23</td><td>0</td></tr>\n",
              "\t<tr><th scope=row>3</th><td>0</td><td>145</td><td> 0</td><td> 0</td><td>  0</td><td>44.2</td><td>0.630</td><td>31</td><td>1</td></tr>\n",
              "\t<tr><th scope=row>4</th><td>0</td><td>135</td><td>68</td><td>42</td><td>250</td><td>42.3</td><td>0.365</td><td>24</td><td>1</td></tr>\n",
              "\t<tr><th scope=row>5</th><td>1</td><td>139</td><td>62</td><td>41</td><td>480</td><td>40.7</td><td>0.536</td><td>21</td><td>0</td></tr>\n",
              "\t<tr><th scope=row>6</th><td>0</td><td>173</td><td>78</td><td>32</td><td>265</td><td>46.5</td><td>1.159</td><td>58</td><td>0</td></tr>\n",
              "</tbody>\n",
              "</table>\n"
            ]
          },
          "metadata": {}
        }
      ]
    },
    {
      "cell_type": "markdown",
      "metadata": {
        "id": "JT7svZt1khu2"
      },
      "source": [
        "Variables predictoras:\n",
        "* Pregnancies: Variable de entera\n",
        "* Glucose: Variable de entera\n",
        "* BlodPressure: Variable de entera\n",
        "* SkinThickness: Variable de entera\n",
        "* Insulin: Variable de entera\n",
        "* BMI: Variable flotante\n",
        "* DiabetesPedigreeFunction: Variable flotante\n",
        "* Age: Variable de entera\n",
        "\n",
        "Variable de respuesta:\n",
        "* Outcome: Variable Booleana\n",
        "\n",
        "## Exploracion de los datos\n",
        "Exploramos los datos para poder sacar una hipotesis para determinar los datos."
      ],
      "id": "JT7svZt1khu2"
    },
    {
      "cell_type": "code",
      "metadata": {
        "colab": {
          "base_uri": "https://localhost:8080/",
          "height": 386
        },
        "id": "lEIL_zJMgIgC",
        "outputId": "02b0f1bd-e24e-4fdb-922e-10605ec46ea8"
      },
      "source": [
        "summary(data)"
      ],
      "id": "lEIL_zJMgIgC",
      "execution_count": null,
      "outputs": [
        {
          "output_type": "display_data",
          "data": {
            "text/plain": [
              "  Pregnancies        Glucose      BloodPressure    SkinThickness   \n",
              " Min.   : 0.000   Min.   :  0.0   Min.   :  0.00   Min.   :  0.00  \n",
              " 1st Qu.: 1.000   1st Qu.: 99.0   1st Qu.: 63.50   1st Qu.:  0.00  \n",
              " Median : 3.000   Median :117.0   Median : 72.00   Median : 23.00  \n",
              " Mean   : 3.704   Mean   :121.2   Mean   : 69.15   Mean   : 20.93  \n",
              " 3rd Qu.: 6.000   3rd Qu.:141.0   3rd Qu.: 80.00   3rd Qu.: 32.00  \n",
              " Max.   :17.000   Max.   :199.0   Max.   :122.00   Max.   :110.00  \n",
              "    Insulin            BMI        DiabetesPedigreeFunction      Age       \n",
              " Min.   :  0.00   Min.   : 0.00   Min.   :0.0780           Min.   :21.00  \n",
              " 1st Qu.:  0.00   1st Qu.:27.38   1st Qu.:0.2440           1st Qu.:24.00  \n",
              " Median : 40.00   Median :32.30   Median :0.3760           Median :29.00  \n",
              " Mean   : 80.25   Mean   :32.19   Mean   :0.4709           Mean   :33.09  \n",
              " 3rd Qu.:130.00   3rd Qu.:36.80   3rd Qu.:0.6240           3rd Qu.:40.00  \n",
              " Max.   :744.00   Max.   :80.60   Max.   :2.4200           Max.   :81.00  \n",
              "    Outcome     \n",
              " Min.   :0.000  \n",
              " 1st Qu.:0.000  \n",
              " Median :0.000  \n",
              " Mean   :0.342  \n",
              " 3rd Qu.:1.000  \n",
              " Max.   :1.000  "
            ]
          },
          "metadata": {}
        }
      ]
    },
    {
      "cell_type": "markdown",
      "metadata": {
        "id": "0XIKY8ExlIdu"
      },
      "source": [
        "Resultados de la exploracion de datos:\n",
        "* Pregnancies:\n",
        "    * En promedio tienen 3 embarazos.\n",
        "    * El maximo es de 17.\n",
        "* Glucose:\n",
        "    * El minimo de glucosa en la sangre algunos pacientes es de 0.\n",
        "    * En promedio tienen una glucosa de 121.\n",
        "    * El maximo de glucosa en un paciente es de 199.\n",
        "* BloodPresure\n",
        "    * El valor minimo es 0.\n",
        "    * En promedio tienen 69.\n",
        "    * El valor maximo es de 122.\n",
        "* SkinThickness\n",
        "    * El valor minimo es 0.\n",
        "    * En promedio tienen 20.93.\n",
        "    * El valor maximo es 110.\n",
        "* Insulin\n",
        "    * En promedio 80.\n",
        "    * El minimo de insulina encontrado es de 0.\n",
        "    * El valor maximo de insulina es de 744.\n",
        "* BMI\n",
        "    * En promedio tenemos un valor de 32.19.\n",
        "    * El mayor valor fue de 80.6.\n",
        "* DiabetesPedigreeFunction\n",
        "    * En promedio tenemos un 0.47.\n",
        "    * El mayor valor es de 2.42.\n",
        "* Age\n",
        "    * En promedio los pacientes tienen 33 años."
      ],
      "id": "0XIKY8ExlIdu"
    },
    {
      "cell_type": "code",
      "metadata": {
        "colab": {
          "base_uri": "https://localhost:8080/",
          "height": 282
        },
        "id": "b081d1c2-17fa-46a5-ac6f-bc261a013735",
        "outputId": "83b7b1cf-8f9c-453d-c410-1dd3bcd15abb"
      },
      "source": [
        "library(randomForest)\n",
        "library(dplyr)\n",
        "data$outcome_factor <- as.factor(data$Outcome)\n",
        "head(data)"
      ],
      "id": "b081d1c2-17fa-46a5-ac6f-bc261a013735",
      "execution_count": null,
      "outputs": [
        {
          "output_type": "display_data",
          "data": {
            "text/plain": [
              "  Pregnancies Glucose BloodPressure SkinThickness Insulin BMI \n",
              "1 2           138     62            35              0     33.6\n",
              "2 0            84     82            31            125     38.2\n",
              "3 0           145      0             0              0     44.2\n",
              "4 0           135     68            42            250     42.3\n",
              "5 1           139     62            41            480     40.7\n",
              "6 0           173     78            32            265     46.5\n",
              "  DiabetesPedigreeFunction Age Outcome outcome_factor\n",
              "1 0.127                    47  1       1             \n",
              "2 0.233                    23  0       0             \n",
              "3 0.630                    31  1       1             \n",
              "4 0.365                    24  1       1             \n",
              "5 0.536                    21  0       0             \n",
              "6 1.159                    58  0       0             "
            ],
            "text/latex": "A data.frame: 6 × 10\n\\begin{tabular}{r|llllllllll}\n  & Pregnancies & Glucose & BloodPressure & SkinThickness & Insulin & BMI & DiabetesPedigreeFunction & Age & Outcome & outcome\\_factor\\\\\n  & <int> & <int> & <int> & <int> & <int> & <dbl> & <dbl> & <int> & <int> & <fct>\\\\\n\\hline\n\t1 & 2 & 138 & 62 & 35 &   0 & 33.6 & 0.127 & 47 & 1 & 1\\\\\n\t2 & 0 &  84 & 82 & 31 & 125 & 38.2 & 0.233 & 23 & 0 & 0\\\\\n\t3 & 0 & 145 &  0 &  0 &   0 & 44.2 & 0.630 & 31 & 1 & 1\\\\\n\t4 & 0 & 135 & 68 & 42 & 250 & 42.3 & 0.365 & 24 & 1 & 1\\\\\n\t5 & 1 & 139 & 62 & 41 & 480 & 40.7 & 0.536 & 21 & 0 & 0\\\\\n\t6 & 0 & 173 & 78 & 32 & 265 & 46.5 & 1.159 & 58 & 0 & 0\\\\\n\\end{tabular}\n",
            "text/markdown": "\nA data.frame: 6 × 10\n\n| <!--/--> | Pregnancies &lt;int&gt; | Glucose &lt;int&gt; | BloodPressure &lt;int&gt; | SkinThickness &lt;int&gt; | Insulin &lt;int&gt; | BMI &lt;dbl&gt; | DiabetesPedigreeFunction &lt;dbl&gt; | Age &lt;int&gt; | Outcome &lt;int&gt; | outcome_factor &lt;fct&gt; |\n|---|---|---|---|---|---|---|---|---|---|---|\n| 1 | 2 | 138 | 62 | 35 |   0 | 33.6 | 0.127 | 47 | 1 | 1 |\n| 2 | 0 |  84 | 82 | 31 | 125 | 38.2 | 0.233 | 23 | 0 | 0 |\n| 3 | 0 | 145 |  0 |  0 |   0 | 44.2 | 0.630 | 31 | 1 | 1 |\n| 4 | 0 | 135 | 68 | 42 | 250 | 42.3 | 0.365 | 24 | 1 | 1 |\n| 5 | 1 | 139 | 62 | 41 | 480 | 40.7 | 0.536 | 21 | 0 | 0 |\n| 6 | 0 | 173 | 78 | 32 | 265 | 46.5 | 1.159 | 58 | 0 | 0 |\n\n",
            "text/html": [
              "<table class=\"dataframe\">\n",
              "<caption>A data.frame: 6 × 10</caption>\n",
              "<thead>\n",
              "\t<tr><th></th><th scope=col>Pregnancies</th><th scope=col>Glucose</th><th scope=col>BloodPressure</th><th scope=col>SkinThickness</th><th scope=col>Insulin</th><th scope=col>BMI</th><th scope=col>DiabetesPedigreeFunction</th><th scope=col>Age</th><th scope=col>Outcome</th><th scope=col>outcome_factor</th></tr>\n",
              "\t<tr><th></th><th scope=col>&lt;int&gt;</th><th scope=col>&lt;int&gt;</th><th scope=col>&lt;int&gt;</th><th scope=col>&lt;int&gt;</th><th scope=col>&lt;int&gt;</th><th scope=col>&lt;dbl&gt;</th><th scope=col>&lt;dbl&gt;</th><th scope=col>&lt;int&gt;</th><th scope=col>&lt;int&gt;</th><th scope=col>&lt;fct&gt;</th></tr>\n",
              "</thead>\n",
              "<tbody>\n",
              "\t<tr><th scope=row>1</th><td>2</td><td>138</td><td>62</td><td>35</td><td>  0</td><td>33.6</td><td>0.127</td><td>47</td><td>1</td><td>1</td></tr>\n",
              "\t<tr><th scope=row>2</th><td>0</td><td> 84</td><td>82</td><td>31</td><td>125</td><td>38.2</td><td>0.233</td><td>23</td><td>0</td><td>0</td></tr>\n",
              "\t<tr><th scope=row>3</th><td>0</td><td>145</td><td> 0</td><td> 0</td><td>  0</td><td>44.2</td><td>0.630</td><td>31</td><td>1</td><td>1</td></tr>\n",
              "\t<tr><th scope=row>4</th><td>0</td><td>135</td><td>68</td><td>42</td><td>250</td><td>42.3</td><td>0.365</td><td>24</td><td>1</td><td>1</td></tr>\n",
              "\t<tr><th scope=row>5</th><td>1</td><td>139</td><td>62</td><td>41</td><td>480</td><td>40.7</td><td>0.536</td><td>21</td><td>0</td><td>0</td></tr>\n",
              "\t<tr><th scope=row>6</th><td>0</td><td>173</td><td>78</td><td>32</td><td>265</td><td>46.5</td><td>1.159</td><td>58</td><td>0</td><td>0</td></tr>\n",
              "</tbody>\n",
              "</table>\n"
            ]
          },
          "metadata": {}
        }
      ]
    },
    {
      "cell_type": "code",
      "metadata": {
        "colab": {
          "base_uri": "https://localhost:8080/",
          "height": 470
        },
        "id": "62f12828-0b4d-45d6-9e04-8abe1011648d",
        "outputId": "e359370e-8441-4a48-95b5-af2c2e5b0986"
      },
      "source": [
        "Clase0 <- length(data$outcome_factor[data$outcome_factor==0])\n",
        "Clase1 <- length(data$outcome_factor) - Clase0\n",
        "\n",
        "Clase0\n",
        "Clase1\n",
        "\n",
        "plot(data$outcome_factor)"
      ],
      "id": "62f12828-0b4d-45d6-9e04-8abe1011648d",
      "execution_count": null,
      "outputs": [
        {
          "output_type": "display_data",
          "data": {
            "text/plain": [
              "[1] 1316"
            ],
            "text/latex": "1316",
            "text/markdown": "1316",
            "text/html": [
              "1316"
            ]
          },
          "metadata": {}
        },
        {
          "output_type": "display_data",
          "data": {
            "text/plain": [
              "[1] 684"
            ],
            "text/latex": "684",
            "text/markdown": "684",
            "text/html": [
              "684"
            ]
          },
          "metadata": {}
        },
        {
          "output_type": "display_data",
          "data": {
            "image/png": "[encoded data removed]",
            "text/plain": [
              "plot without title"
            ]
          },
          "metadata": {
            "image/png": {
              "width": 420,
              "height": 420
            }
          }
        }
      ]
    },
    {
      "cell_type": "markdown",
      "metadata": {
        "id": "1FSPKHf2pOsO"
      },
      "source": [
        "La clase 0 tiene un valor de: 1316 \n",
        "\n",
        "\n",
        "La clase 1 tiene un valor de: 684\n",
        "\n"
      ],
      "id": "1FSPKHf2pOsO"
    },
    {
      "cell_type": "markdown",
      "metadata": {
        "id": "RVzo8VfjqcLS"
      },
      "source": [
        "## Separación de datos\n",
        "\n",
        "* Conjunto de entrenamiento (70%)\n",
        "* Conjunto de prueba (30%)"
      ],
      "id": "RVzo8VfjqcLS"
    },
    {
      "cell_type": "code",
      "metadata": {
        "colab": {
          "base_uri": "https://localhost:8080/",
          "height": 305
        },
        "id": "c7f9fafc-717f-419b-ab01-7fbaa2a0ba63",
        "outputId": "f9e4b08d-f76d-405a-8432-f961510707ea"
      },
      "source": [
        "set.seed(123)\n",
        "\n",
        "n <- nrow(data)\n",
        "ind <- sample(1:n, 0.7*n)\n",
        "train <- data[ind,]\n",
        "test <- data[-ind,]\n",
        "\n",
        "count(train)\n",
        "count(test)"
      ],
      "id": "c7f9fafc-717f-419b-ab01-7fbaa2a0ba63",
      "execution_count": null,
      "outputs": [
        {
          "output_type": "display_data",
          "data": {
            "text/plain": [
              "  n   \n",
              "1 1400"
            ],
            "text/latex": "A data.frame: 1 × 1\n\\begin{tabular}{l}\n n\\\\\n <int>\\\\\n\\hline\n\t 1400\\\\\n\\end{tabular}\n",
            "text/markdown": "\nA data.frame: 1 × 1\n\n| n &lt;int&gt; |\n|---|\n| 1400 |\n\n",
            "text/html": [
              "<table class=\"dataframe\">\n",
              "<caption>A data.frame: 1 × 1</caption>\n",
              "<thead>\n",
              "\t<tr><th scope=col>n</th></tr>\n",
              "\t<tr><th scope=col>&lt;int&gt;</th></tr>\n",
              "</thead>\n",
              "<tbody>\n",
              "\t<tr><td>1400</td></tr>\n",
              "</tbody>\n",
              "</table>\n"
            ]
          },
          "metadata": {}
        },
        {
          "output_type": "display_data",
          "data": {
            "text/plain": [
              "  n  \n",
              "1 600"
            ],
            "text/latex": "A data.frame: 1 × 1\n\\begin{tabular}{l}\n n\\\\\n <int>\\\\\n\\hline\n\t 600\\\\\n\\end{tabular}\n",
            "text/markdown": "\nA data.frame: 1 × 1\n\n| n &lt;int&gt; |\n|---|\n| 600 |\n\n",
            "text/html": [
              "<table class=\"dataframe\">\n",
              "<caption>A data.frame: 1 × 1</caption>\n",
              "<thead>\n",
              "\t<tr><th scope=col>n</th></tr>\n",
              "\t<tr><th scope=col>&lt;int&gt;</th></tr>\n",
              "</thead>\n",
              "<tbody>\n",
              "\t<tr><td>600</td></tr>\n",
              "</tbody>\n",
              "</table>\n"
            ]
          },
          "metadata": {}
        }
      ]
    },
    {
      "cell_type": "markdown",
      "metadata": {
        "id": "E2FPdES8rSWo"
      },
      "source": [
        "Datos original: 2000\n",
        "\n",
        "Datos de entrenamiento: 1400\n",
        "\n",
        "Datos de prueba: 600\n"
      ],
      "id": "E2FPdES8rSWo"
    },
    {
      "cell_type": "markdown",
      "metadata": {
        "id": "k474burortJV"
      },
      "source": [
        "## Creacion del modelo\n",
        "\n",
        "Utilizamos el conjunto de entrenamiento en nuestro modelo de clasificacion con el metodo AdaBoost. Despues utilizaremos el conjunto de prueba para determinar que tan buen modelo es este utilizando diversas metricas:\n",
        "\n",
        "* Exactitud\n",
        "* Presicion\n",
        "* Sensibilidad/Exahustividad\n",
        "* Especificidad"
      ],
      "id": "k474burortJV"
    },
    {
      "cell_type": "code",
      "metadata": {
        "id": "19fc84ce-702f-4fbe-a316-802f3b9d88ba"
      },
      "source": [
        "library(adabag)\n",
        "\n",
        "rf <- bagging(outcome_factor~Pregnancies+Glucose+BloodPressure+SkinThickness+Insulin+BMI+DiabetesPedigreeFunction+Age, mfinal=10, data=train)"
      ],
      "id": "19fc84ce-702f-4fbe-a316-802f3b9d88ba",
      "execution_count": null,
      "outputs": []
    },
    {
      "cell_type": "code",
      "metadata": {
        "colab": {
          "base_uri": "https://localhost:8080/",
          "height": 87
        },
        "id": "eb076932-5a70-4ca1-b921-cf590a97aeba",
        "outputId": "19f279a7-6bfe-44ef-fcce-37b9cdf0c625"
      },
      "source": [
        "yp <- predict(rf, test)$class\n",
        "t <- table(test$outcome_factor, yp)\n",
        "t"
      ],
      "id": "eb076932-5a70-4ca1-b921-cf590a97aeba",
      "execution_count": null,
      "outputs": [
        {
          "output_type": "display_data",
          "data": {
            "text/plain": [
              "   yp\n",
              "      0   1\n",
              "  0 354  29\n",
              "  1  72 145"
            ]
          },
          "metadata": {}
        }
      ]
    },
    {
      "cell_type": "code",
      "metadata": {
        "colab": {
          "base_uri": "https://localhost:8080/",
          "height": 34
        },
        "id": "4e366b59-8b66-4e4b-a028-65141903b19e",
        "outputId": "568caed1-8071-427c-e60f-18f84be3f9ca"
      },
      "source": [
        "#Exactitud ( TP + TN )/ ( TP + TN + FP + FN )\n",
        "(145+354)/(145+354+72+29)"
      ],
      "id": "4e366b59-8b66-4e4b-a028-65141903b19e",
      "execution_count": null,
      "outputs": [
        {
          "output_type": "display_data",
          "data": {
            "text/plain": [
              "[1] 0.8316667"
            ],
            "text/latex": "0.831666666666667",
            "text/markdown": "0.831666666666667",
            "text/html": [
              "0.831666666666667"
            ]
          },
          "metadata": {}
        }
      ]
    },
    {
      "cell_type": "code",
      "metadata": {
        "colab": {
          "base_uri": "https://localhost:8080/",
          "height": 34
        },
        "id": "f792b572-5f4b-4810-a626-7558dea558eb",
        "outputId": "47019508-9734-4c46-eb67-47d612273698"
      },
      "source": [
        "#Presicion TP + ( TP + FP )\n",
        "(145)/(145+72)"
      ],
      "id": "f792b572-5f4b-4810-a626-7558dea558eb",
      "execution_count": null,
      "outputs": [
        {
          "output_type": "display_data",
          "data": {
            "text/plain": [
              "[1] 0.6682028"
            ],
            "text/latex": "0.668202764976959",
            "text/markdown": "0.668202764976959",
            "text/html": [
              "0.668202764976959"
            ]
          },
          "metadata": {}
        }
      ]
    },
    {
      "cell_type": "code",
      "metadata": {
        "colab": {
          "base_uri": "https://localhost:8080/",
          "height": 34
        },
        "id": "2147d033-96c4-4e0d-90c5-7b626ccf76f7",
        "outputId": "bacf2deb-1826-4b31-8d6c-7e8d2b46284a"
      },
      "source": [
        "#Exahustividad-Sensibilidad TP / (TP + FN)\n",
        "(145)/(145+29)"
      ],
      "id": "2147d033-96c4-4e0d-90c5-7b626ccf76f7",
      "execution_count": null,
      "outputs": [
        {
          "output_type": "display_data",
          "data": {
            "text/plain": [
              "[1] 0.8333333"
            ],
            "text/latex": "0.833333333333333",
            "text/markdown": "0.833333333333333",
            "text/html": [
              "0.833333333333333"
            ]
          },
          "metadata": {}
        }
      ]
    },
    {
      "cell_type": "code",
      "metadata": {
        "colab": {
          "base_uri": "https://localhost:8080/",
          "height": 34
        },
        "id": "39f12434-628f-49e3-b41b-2520ebbd9268",
        "outputId": "f37b09e1-8bc8-4233-9b91-d28cada95bd7"
      },
      "source": [
        "#Especifidad TN / ( TN + FP )\n",
        "354/(354+72)"
      ],
      "id": "39f12434-628f-49e3-b41b-2520ebbd9268",
      "execution_count": null,
      "outputs": [
        {
          "output_type": "display_data",
          "data": {
            "text/plain": [
              "[1] 0.8309859"
            ],
            "text/latex": "0.830985915492958",
            "text/markdown": "0.830985915492958",
            "text/html": [
              "0.830985915492958"
            ]
          },
          "metadata": {}
        }
      ]
    },
    {
      "cell_type": "markdown",
      "metadata": {
        "id": "ZgroskTku-WA"
      },
      "source": [
        "Con los resultados anteriores podemos decir que:\n",
        "* Exactitud: No es una metrica muy util, sin embargo tener el 83% de exactitud es un punto interesante ya que la clase 0 tiene el mayor porcentaje con 65%.\n",
        "* Sensibilidad: Es una de las metricas mas importantes ya que trata de recuperar la mayor cantidad de casos positivos penalizando cuando se obtienen falsos negativos, tiene un valor de 83%.\n",
        "* Presicion: Este valor trata de recuperar la mayor cantidad de casos positivos penalizando cuando hay casos positivos, tiene un valor de 66%.\n",
        "* Especifidad: Debido a que estamos recuperando la mayor cantidad de casos negativos, esta metrica no nos seria muy util, tiene un valor de 83%.\n",
        "\n",
        "En conclusion es un modelo bueno ya que supera el 65% en las metricas utiles para el contexto de los datos."
      ],
      "id": "ZgroskTku-WA"
    },
    {
      "cell_type": "code",
      "metadata": {
        "id": "xWlJHpXxwsf5"
      },
      "source": [],
      "id": "xWlJHpXxwsf5",
      "execution_count": null,
      "outputs": []
    }
  ]
}